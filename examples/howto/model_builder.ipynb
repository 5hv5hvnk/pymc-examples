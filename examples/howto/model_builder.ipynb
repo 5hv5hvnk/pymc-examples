{
 "cells": [
  {
   "cell_type": "markdown",
   "id": "8f00588f-6a28-4d93-b072-f464f78aae40",
   "metadata": {},
   "source": [
    "# Using ModelBuilder class for deploying PyMC models \n",
    ":::{post} Sep 12, 2022\n",
    ":tags: deployment\n",
    ":category: Advanced\n",
    ":author: Shashank Kirtania, Thomas Wiecki\n",
    ":::"
   ]
  },
  {
   "cell_type": "markdown",
   "id": "1fdfb702-b893-4e63-8354-935f9742fdde",
   "metadata": {},
   "source": [
    "## Motivation"
   ]
  },
  {
   "cell_type": "markdown",
   "id": "13a7e0ee-506c-4d5d-adb3-a52cc24cac50",
   "metadata": {},
   "source": [
    "Many users face difficulty in deploying their PyMC models to production because deploying/saving/loading a user-created model is not well standardized. One of the reasons behind this is there is no direct way to save or load a model in PyMC like scikit-learn or TensorFlow. The new `ModelBuilder` class is aimed to improve this workflow by providing a scikit-learn inspired API to wrap your PyMC models.\n",
    "\n",
    "The new `ModelBuilder` class allows users to use methods to `fit()`, `predict()`, `save()`, `load()`. Users can create any model they want, inherit the `ModelBuilder` class, and use predefined methods."
   ]
  },
  {
   "cell_type": "markdown",
   "id": "94832375-dc7e-4b4f-ad2e-87363fc363db",
   "metadata": {},
   "source": [
    "Let's go through the full workflow, starting with a simple linear regression PyMC model as it's usually written. Of course, this model is just a place-holder for your own model."
   ]
  },
  {
   "cell_type": "code",
   "execution_count": 1,
   "id": "48e35045",
   "metadata": {},
   "outputs": [],
   "source": [
    "import arviz as az\n",
    "import matplotlib.pyplot as plt\n",
    "import numpy as np\n",
    "import pandas as pd\n",
    "import pymc as pm\n",
    "\n",
    "from numpy.random import RandomState\n",
    "\n",
    "%config InlineBackend.figure_format = 'retina'\n",
    "RANDOM_SEED = 8927\n",
    "\n",
    "rs = RandomState(RANDOM_SEED)\n",
    "az.style.use(\"arviz-darkgrid\")"
   ]
  },
  {
   "cell_type": "code",
   "execution_count": 2,
   "id": "b12fd2c5",
   "metadata": {},
   "outputs": [],
   "source": [
    "# Generate data\n",
    "x = np.linspace(start=0, stop=1, num=100)\n",
    "y = 0.3 * x + 0.5 + rs.normal(0, 1, len(x))"
   ]
  },
  {
   "cell_type": "markdown",
   "id": "291452ed",
   "metadata": {},
   "source": [
    "## Standard syntax\n",
    "Usually a PyMC model will have this form:"
   ]
  },
  {
   "cell_type": "code",
   "execution_count": 3,
   "id": "84d07dc6",
   "metadata": {},
   "outputs": [
    {
     "name": "stderr",
     "output_type": "stream",
     "text": [
      "Auto-assigning NUTS sampler...\n",
      "Initializing NUTS using jitter+adapt_diag...\n",
      "Multiprocess sampling (4 chains in 4 jobs)\n",
      "NUTS: [a, b, eps]\n"
     ]
    },
    {
     "data": {
      "text/html": [
       "\n",
       "<style>\n",
       "    /* Turns off some styling */\n",
       "    progress {\n",
       "        /* gets rid of default border in Firefox and Opera. */\n",
       "        border: none;\n",
       "        /* Needs to be in here for Safari polyfill so background images work as expected. */\n",
       "        background-size: auto;\n",
       "    }\n",
       "    progress:not([value]), progress:not([value])::-webkit-progress-bar {\n",
       "        background: repeating-linear-gradient(45deg, #7e7e7e, #7e7e7e 10px, #5c5c5c 10px, #5c5c5c 20px);\n",
       "    }\n",
       "    .progress-bar-interrupted, .progress-bar-interrupted::-webkit-progress-bar {\n",
       "        background: #F44336;\n",
       "    }\n",
       "</style>\n"
      ],
      "text/plain": [
       "<IPython.core.display.HTML object>"
      ]
     },
     "metadata": {},
     "output_type": "display_data"
    },
    {
     "data": {
      "text/html": [
       "\n",
       "    <div>\n",
       "      <progress value='8000' class='' max='8000' style='width:300px; height:20px; vertical-align: middle;'></progress>\n",
       "      100.00% [8000/8000 00:01&lt;00:00 Sampling 4 chains, 0 divergences]\n",
       "    </div>\n",
       "    "
      ],
      "text/plain": [
       "<IPython.core.display.HTML object>"
      ]
     },
     "metadata": {},
     "output_type": "display_data"
    },
    {
     "name": "stderr",
     "output_type": "stream",
     "text": [
      "Sampling 4 chains for 1_000 tune and 1_000 draw iterations (4_000 + 4_000 draws total) took 8 seconds.\n",
      "Sampling: [a, b, eps, y_model]\n",
      "Sampling: [y_model]\n"
     ]
    },
    {
     "data": {
      "text/html": [
       "\n",
       "<style>\n",
       "    /* Turns off some styling */\n",
       "    progress {\n",
       "        /* gets rid of default border in Firefox and Opera. */\n",
       "        border: none;\n",
       "        /* Needs to be in here for Safari polyfill so background images work as expected. */\n",
       "        background-size: auto;\n",
       "    }\n",
       "    progress:not([value]), progress:not([value])::-webkit-progress-bar {\n",
       "        background: repeating-linear-gradient(45deg, #7e7e7e, #7e7e7e 10px, #5c5c5c 10px, #5c5c5c 20px);\n",
       "    }\n",
       "    .progress-bar-interrupted, .progress-bar-interrupted::-webkit-progress-bar {\n",
       "        background: #F44336;\n",
       "    }\n",
       "</style>\n"
      ],
      "text/plain": [
       "<IPython.core.display.HTML object>"
      ]
     },
     "metadata": {},
     "output_type": "display_data"
    },
    {
     "data": {
      "text/html": [
       "\n",
       "    <div>\n",
       "      <progress value='4000' class='' max='4000' style='width:300px; height:20px; vertical-align: middle;'></progress>\n",
       "      100.00% [4000/4000 00:00&lt;00:00]\n",
       "    </div>\n",
       "    "
      ],
      "text/plain": [
       "<IPython.core.display.HTML object>"
      ]
     },
     "metadata": {},
     "output_type": "display_data"
    }
   ],
   "source": [
    "with pm.Model() as model:\n",
    "    # priors\n",
    "    a = pm.Normal(\"a\", mu=0, sigma=1)\n",
    "    b = pm.Normal(\"b\", mu=0, sigma=1)\n",
    "    eps = pm.HalfNormal(\"eps\", 1.0)\n",
    "\n",
    "    # observed data\n",
    "    y_model = pm.Normal(\"y_model\", mu=a + b * x, sigma=eps, observed=y)\n",
    "\n",
    "    # Fitting\n",
    "    idata = pm.sample()\n",
    "    idata.extend(pm.sample_prior_predictive())\n",
    "\n",
    "    # posterior predict\n",
    "    idata.extend(pm.sample_posterior_predictive(idata))"
   ]
  },
  {
   "cell_type": "markdown",
   "id": "eda28484",
   "metadata": {},
   "source": [
    "How would we deploy this model? Save the fitted model, load it on an instance, and predict? Not so simple.\n",
    "\n",
    "`ModelBuilder` is built for this purpose. It is currently part of the  `pymc-experimental` package which we can pip install with `pip install pymc-experimental`. As the name implies, this feature is still experimental and subject to change."
   ]
  },
  {
   "cell_type": "markdown",
   "id": "2ade65cd",
   "metadata": {},
   "source": [
    "## Model builder class"
   ]
  },
  {
   "cell_type": "markdown",
   "id": "36214695-5fb1-4450-a3ea-789f2e965746",
   "metadata": {},
   "source": [
    "Let's import the `ModelBuilder` class."
   ]
  },
  {
   "cell_type": "code",
   "execution_count": 4,
   "id": "a1f5fa98-53d8-459a-827b-fa5179861918",
   "metadata": {},
   "outputs": [],
   "source": [
    "from pymc_experimental.model_builder import ModelBuilder"
   ]
  },
  {
   "cell_type": "markdown",
   "id": "ef0412fe-5aae-4bfa-8a1f-0e1e3762fc5f",
   "metadata": {},
   "source": [
    "To define our desired model we inherit from the `ModelBuilder` class. There are a couple of methods we need to define."
   ]
  },
  {
   "cell_type": "code",
   "execution_count": 5,
   "id": "1c4b4575-630c-45a7-9eee-4790adf8924f",
   "metadata": {
    "tags": []
   },
   "outputs": [],
   "source": [
    "class LinearModel(ModelBuilder):\n",
    "    # Give the model a name\n",
    "    _model_type = \"LinearModel\"\n",
    "    # And a version\n",
    "    version = \"0.1\"\n",
    "\n",
    "    def build_model(self, model_config, data=None):\n",
    "        \"\"\"\n",
    "        build_model creates the PyMC model\n",
    "\n",
    "        Parameters:\n",
    "        model_config: dictionary\n",
    "            it is a dictionary with all the parameters that we need in our model example:  a_loc, a_scale, b_loc\n",
    "        data: Dict[str, Union[np.ndarray, pd.DataFrame, pd.Series]]\n",
    "            Data we want our model fit on.\n",
    "        \"\"\"\n",
    "        # Note that we do not have to define a with-context\n",
    "\n",
    "        # Create mutable data containers\n",
    "        x_data = pm.MutableData(\"x_data\", data[\"input\"].values)\n",
    "        y_data = pm.MutableData(\"y_data\", data[\"output\"].values)\n",
    "\n",
    "        # prior parameters\n",
    "        a_mu_prior = model_config.get(\"a_mu_prior\", 0.0)\n",
    "        a_sigma_prior = model_config.get(\"a_sigma_prior\", 1.0)\n",
    "        b_mu_prior = model_config.get(\"b_mu_prior\", 0.0)\n",
    "        b_sigma_prior = model_config.get(\"b_sigma_prior\", 1.0)\n",
    "        eps_prior = model_config.get(\"eps_prior\", 1.0)\n",
    "\n",
    "        # priors\n",
    "        a = pm.Normal(\"a\", mu=a_mu_prior, sigma=a_sigma_prior)\n",
    "        b = pm.Normal(\"b\", mu=b_mu_prior, sigma=b_sigma_prior)\n",
    "        eps = pm.HalfNormal(\"eps\", eps_prior)\n",
    "\n",
    "        obs = pm.Normal(\"y\", mu=a + b * x_data, sigma=eps, shape=x_data.shape, observed=y_data)\n",
    "\n",
    "    def _data_setter(self, data: pd.DataFrame):\n",
    "        \"\"\"\n",
    "        _data_setter works as a set_data for the model and updates the data whenever we need to.\n",
    "        Parameters:\n",
    "        data: Dict[str, Union[np.ndarray, pd.DataFrame, pd.Series]]\n",
    "            It is the data we need to update for the model.\n",
    "        \"\"\"\n",
    "\n",
    "        with self.model:\n",
    "            pm.set_data({\"x_data\": data[\"input\"].values})\n",
    "            if \"output\" in data.columns:\n",
    "                pm.set_data({\"y_data\": data[\"output\"].values})\n",
    "\n",
    "    @classmethod\n",
    "    def create_sample_input(cls):\n",
    "        \"\"\"\n",
    "        Creates example input and parameters to test the model on.\n",
    "        This is optional but useful.\n",
    "        \"\"\"\n",
    "\n",
    "        x = np.linspace(start=0, stop=1, num=100)\n",
    "        y = 0.3 * x + 0.5\n",
    "        y = y + np.random.normal(0, 1, len(x))\n",
    "        data = pd.DataFrame({\"input\": x, \"output\": y})\n",
    "\n",
    "        model_config = {\n",
    "            \"a_mu_prior\": 0.0,\n",
    "            \"a_sigma_prior\": 1.0,\n",
    "            \"b_mu_prior\": 0.0,\n",
    "            \"b_sigma_prior\": 1.0,\n",
    "            \"eps_prior\": 1.0,\n",
    "        }\n",
    "\n",
    "        sampler_config = {\n",
    "            \"draws\": 1_000,\n",
    "            \"tune\": 1_000,\n",
    "            \"chains\": 3,\n",
    "            \"target_accept\": 0.95,\n",
    "        }\n",
    "\n",
    "        return data, model_config, sampler_config"
   ]
  },
  {
   "cell_type": "markdown",
   "id": "aa682cee-58b0-4c51-b5fd-f99d6afaea69",
   "metadata": {},
   "source": [
    "Now we can create the `LinearModel` object.\n",
    "\n",
    "But we need some example data. This is where defining a `create_sample_input()` method as done above is useful. It gives users of your model an easy way to generate data (and configurations) to test your model on."
   ]
  },
  {
   "cell_type": "code",
   "execution_count": 6,
   "id": "8658306c-f1eb-45a7-9c71-3fcee06183bc",
   "metadata": {},
   "outputs": [],
   "source": [
    "data, model_config, sampler_config = LinearModel.create_sample_input()\n",
    "model = LinearModel(model_config, sampler_config, data)"
   ]
  },
  {
   "cell_type": "markdown",
   "id": "294cf57b-b51f-4c77-8e0b-5adaf0a63f2b",
   "metadata": {},
   "source": [
    "After making the object of class `LinearModel` we can fit the model using the `.fit()` method."
   ]
  },
  {
   "cell_type": "markdown",
   "id": "ad88f4de",
   "metadata": {},
   "source": [
    "## Fitting to data"
   ]
  },
  {
   "cell_type": "markdown",
   "id": "b54461fe-60a1-4cfa-8c4c-d5d52050902e",
   "metadata": {},
   "source": [
    "The `fit()` method takes one argument `data` on which we need to fit the model. The meta-data is saved in the `InferenceData` object where also the trace is stored. These are the fields that are stored:\n",
    "\n",
    "* `id` : This is a unique id given to a model based on model_config, sample_conifg, version, and model_type. Users can use it to check if the model matches to another model they have defined.\n",
    "* `model_type` : Model type tells us what kind of model it is. This in this case it outputs **Linear Model** \n",
    "* `version` : In case you want to improve on models, you can keep track of model by their version. As the version changes the unique hash in the `id` also changes.\n",
    "* `sample_conifg` : It stores values of the sampler configuration set by user for this particular model.\n",
    "* `model_config` : It stores values of the model configuration set by user for this particular model."
   ]
  },
  {
   "cell_type": "code",
   "execution_count": 7,
   "id": "a3708a8f-40f6-4a04-bcbf-284397f25450",
   "metadata": {},
   "outputs": [
    {
     "name": "stderr",
     "output_type": "stream",
     "text": [
      "Auto-assigning NUTS sampler...\n",
      "Initializing NUTS using jitter+adapt_diag...\n",
      "Multiprocess sampling (3 chains in 4 jobs)\n",
      "NUTS: [a, b, eps]\n"
     ]
    },
    {
     "data": {
      "text/html": [
       "\n",
       "<style>\n",
       "    /* Turns off some styling */\n",
       "    progress {\n",
       "        /* gets rid of default border in Firefox and Opera. */\n",
       "        border: none;\n",
       "        /* Needs to be in here for Safari polyfill so background images work as expected. */\n",
       "        background-size: auto;\n",
       "    }\n",
       "    progress:not([value]), progress:not([value])::-webkit-progress-bar {\n",
       "        background: repeating-linear-gradient(45deg, #7e7e7e, #7e7e7e 10px, #5c5c5c 10px, #5c5c5c 20px);\n",
       "    }\n",
       "    .progress-bar-interrupted, .progress-bar-interrupted::-webkit-progress-bar {\n",
       "        background: #F44336;\n",
       "    }\n",
       "</style>\n"
      ],
      "text/plain": [
       "<IPython.core.display.HTML object>"
      ]
     },
     "metadata": {},
     "output_type": "display_data"
    },
    {
     "data": {
      "text/html": [
       "\n",
       "    <div>\n",
       "      <progress value='6000' class='' max='6000' style='width:300px; height:20px; vertical-align: middle;'></progress>\n",
       "      100.00% [6000/6000 00:01&lt;00:00 Sampling 3 chains, 0 divergences]\n",
       "    </div>\n",
       "    "
      ],
      "text/plain": [
       "<IPython.core.display.HTML object>"
      ]
     },
     "metadata": {},
     "output_type": "display_data"
    },
    {
     "name": "stderr",
     "output_type": "stream",
     "text": [
      "Sampling 3 chains for 1_000 tune and 1_000 draw iterations (3_000 + 3_000 draws total) took 6 seconds.\n",
      "Sampling: [a, b, eps, y]\n",
      "Sampling: [y]\n"
     ]
    },
    {
     "data": {
      "text/html": [
       "\n",
       "<style>\n",
       "    /* Turns off some styling */\n",
       "    progress {\n",
       "        /* gets rid of default border in Firefox and Opera. */\n",
       "        border: none;\n",
       "        /* Needs to be in here for Safari polyfill so background images work as expected. */\n",
       "        background-size: auto;\n",
       "    }\n",
       "    progress:not([value]), progress:not([value])::-webkit-progress-bar {\n",
       "        background: repeating-linear-gradient(45deg, #7e7e7e, #7e7e7e 10px, #5c5c5c 10px, #5c5c5c 20px);\n",
       "    }\n",
       "    .progress-bar-interrupted, .progress-bar-interrupted::-webkit-progress-bar {\n",
       "        background: #F44336;\n",
       "    }\n",
       "</style>\n"
      ],
      "text/plain": [
       "<IPython.core.display.HTML object>"
      ]
     },
     "metadata": {},
     "output_type": "display_data"
    },
    {
     "data": {
      "text/html": [
       "\n",
       "    <div>\n",
       "      <progress value='3000' class='' max='3000' style='width:300px; height:20px; vertical-align: middle;'></progress>\n",
       "      100.00% [3000/3000 00:00&lt;00:00]\n",
       "    </div>\n",
       "    "
      ],
      "text/plain": [
       "<IPython.core.display.HTML object>"
      ]
     },
     "metadata": {},
     "output_type": "display_data"
    },
    {
     "name": "stderr",
     "output_type": "stream",
     "text": [
      "/Users/twiecki/miniforge3/envs/pymc5/lib/python3.10/site-packages/arviz/data/inference_data.py:1427: UserWarning: The group fit_data is not defined in the InferenceData scheme\n",
      "  warnings.warn(\n"
     ]
    }
   ],
   "source": [
    "idata = model.fit()"
   ]
  },
  {
   "cell_type": "markdown",
   "id": "dd342c84",
   "metadata": {},
   "source": [
    "## Saving model to file"
   ]
  },
  {
   "cell_type": "markdown",
   "id": "1649556a-13b6-409f-ac09-5c4b7e0277b7",
   "metadata": {},
   "source": [
    "After fitting the model, we can probably save it to share the model as a file so one can use it again.\n",
    "To `save()` or `load()`, we can quickly call methods for respective tasks with the following syntax."
   ]
  },
  {
   "cell_type": "code",
   "execution_count": 8,
   "id": "3bacfe2c",
   "metadata": {},
   "outputs": [],
   "source": [
    "!rm linear_model_v1.nc"
   ]
  },
  {
   "cell_type": "code",
   "execution_count": 9,
   "id": "a965d738-60c5-4b4b-b872-f2613621851b",
   "metadata": {
    "tags": []
   },
   "outputs": [],
   "source": [
    "fname = \"linear_model_v1.nc\"\n",
    "model.save(fname)"
   ]
  },
  {
   "cell_type": "markdown",
   "id": "490e8802-0395-42c7-a01a-18d9af272320",
   "metadata": {},
   "source": [
    "This saves a file at the given path, and the name <br>\n",
    "A NetCDF `.nc` file that stores the inference data of the model."
   ]
  },
  {
   "cell_type": "markdown",
   "id": "7b995805",
   "metadata": {},
   "source": [
    "## Loading a model"
   ]
  },
  {
   "cell_type": "markdown",
   "id": "3e188eb0-c42e-4cd5-b70c-568d9cde71f0",
   "metadata": {},
   "source": [
    "Now if we wanted to deploy this model, or just have other people use it to predict data, they need two things:\n",
    "1. the `LinearModel` class (probably in a .py file)\n",
    "2. the linear_model_v1.nc file\n",
    "\n",
    "With these, you can easily load a fitted model in a different environment (e.g. production):"
   ]
  },
  {
   "cell_type": "code",
   "execution_count": 10,
   "id": "fe2bccf2-1707-4b21-803b-50716e9298c3",
   "metadata": {},
   "outputs": [
    {
     "name": "stderr",
     "output_type": "stream",
     "text": [
      "/Users/twiecki/miniforge3/envs/pymc5/lib/python3.10/site-packages/arviz/data/inference_data.py:153: UserWarning: fit_data group is not defined in the InferenceData scheme\n",
      "  warnings.warn(\n"
     ]
    }
   ],
   "source": [
    "model_2 = LinearModel.load(fname)"
   ]
  },
  {
   "cell_type": "markdown",
   "id": "27ac7c8f",
   "metadata": {},
   "source": [
    "Note that `load()` is a class-method, we do not need to instantiate the `LinearModel` object."
   ]
  },
  {
   "cell_type": "code",
   "execution_count": 11,
   "id": "b67f25d6",
   "metadata": {},
   "outputs": [
    {
     "data": {
      "text/latex": [
       "$$\n",
       "            \\begin{array}{rcl}\n",
       "            \\text{a} &\\sim & \\operatorname{N}(0,~1)\\\\\\text{b} &\\sim & \\operatorname{N}(0,~1)\\\\\\text{eps} &\\sim & \\operatorname{N^{+}}(0,~1)\\\\\\text{y} &\\sim & \\operatorname{N}(f(\\text{a},~\\text{b}),~\\text{eps})\n",
       "            \\end{array}\n",
       "            $$"
      ],
      "text/plain": [
       "  a ~ N(0, 1)\n",
       "  b ~ N(0, 1)\n",
       "eps ~ N**+(0, 1)\n",
       "  y ~ N(f(a, b), eps)"
      ]
     },
     "execution_count": 11,
     "metadata": {},
     "output_type": "execute_result"
    }
   ],
   "source": [
    "model_2"
   ]
  },
  {
   "cell_type": "markdown",
   "id": "1e61cd7a",
   "metadata": {},
   "source": [
    "## Prediction"
   ]
  },
  {
   "cell_type": "markdown",
   "id": "1d7254f1-7a59-4623-a128-8a1dd48d0407",
   "metadata": {},
   "source": [
    "Next we might want to predict on new data. The `predict()` method allows users to do posterior prediction with the fitted model on new data.\n",
    "\n",
    "Our first task is to create data on which we need to predict."
   ]
  },
  {
   "cell_type": "code",
   "execution_count": 12,
   "id": "3ecc8694-db5e-4d45-b8e0-78608b7eaa83",
   "metadata": {},
   "outputs": [],
   "source": [
    "x_pred = np.random.uniform(low=1, high=2, size=10)\n",
    "prediction_data = pd.DataFrame({\"input\": x_pred})"
   ]
  },
  {
   "cell_type": "markdown",
   "id": "1b155d2d-0211-4d85-8b60-a728a62e3743",
   "metadata": {},
   "source": [
    "`ModelBuilder` provides two methods for prediction:\n",
    "1. point estimates (the mean) with `predict()`\n",
    "2. full posterior prediction (samples) with `predict_posterior()`"
   ]
  },
  {
   "cell_type": "code",
   "execution_count": 13,
   "id": "6926eba3-52ed-4c6c-b58f-f2e0bba7b45a",
   "metadata": {},
   "outputs": [
    {
     "name": "stderr",
     "output_type": "stream",
     "text": [
      "Sampling: [y]\n"
     ]
    },
    {
     "data": {
      "text/html": [
       "\n",
       "<style>\n",
       "    /* Turns off some styling */\n",
       "    progress {\n",
       "        /* gets rid of default border in Firefox and Opera. */\n",
       "        border: none;\n",
       "        /* Needs to be in here for Safari polyfill so background images work as expected. */\n",
       "        background-size: auto;\n",
       "    }\n",
       "    progress:not([value]), progress:not([value])::-webkit-progress-bar {\n",
       "        background: repeating-linear-gradient(45deg, #7e7e7e, #7e7e7e 10px, #5c5c5c 10px, #5c5c5c 20px);\n",
       "    }\n",
       "    .progress-bar-interrupted, .progress-bar-interrupted::-webkit-progress-bar {\n",
       "        background: #F44336;\n",
       "    }\n",
       "</style>\n"
      ],
      "text/plain": [
       "<IPython.core.display.HTML object>"
      ]
     },
     "metadata": {},
     "output_type": "display_data"
    },
    {
     "data": {
      "text/html": [
       "\n",
       "    <div>\n",
       "      <progress value='3000' class='' max='3000' style='width:300px; height:20px; vertical-align: middle;'></progress>\n",
       "      100.00% [3000/3000 00:00&lt;00:00]\n",
       "    </div>\n",
       "    "
      ],
      "text/plain": [
       "<IPython.core.display.HTML object>"
      ]
     },
     "metadata": {},
     "output_type": "display_data"
    },
    {
     "name": "stderr",
     "output_type": "stream",
     "text": [
      "Sampling: [y]\n"
     ]
    },
    {
     "data": {
      "text/html": [
       "\n",
       "<style>\n",
       "    /* Turns off some styling */\n",
       "    progress {\n",
       "        /* gets rid of default border in Firefox and Opera. */\n",
       "        border: none;\n",
       "        /* Needs to be in here for Safari polyfill so background images work as expected. */\n",
       "        background-size: auto;\n",
       "    }\n",
       "    progress:not([value]), progress:not([value])::-webkit-progress-bar {\n",
       "        background: repeating-linear-gradient(45deg, #7e7e7e, #7e7e7e 10px, #5c5c5c 10px, #5c5c5c 20px);\n",
       "    }\n",
       "    .progress-bar-interrupted, .progress-bar-interrupted::-webkit-progress-bar {\n",
       "        background: #F44336;\n",
       "    }\n",
       "</style>\n"
      ],
      "text/plain": [
       "<IPython.core.display.HTML object>"
      ]
     },
     "metadata": {},
     "output_type": "display_data"
    },
    {
     "data": {
      "text/html": [
       "\n",
       "    <div>\n",
       "      <progress value='3000' class='' max='3000' style='width:300px; height:20px; vertical-align: middle;'></progress>\n",
       "      100.00% [3000/3000 00:00&lt;00:00]\n",
       "    </div>\n",
       "    "
      ],
      "text/plain": [
       "<IPython.core.display.HTML object>"
      ]
     },
     "metadata": {},
     "output_type": "display_data"
    }
   ],
   "source": [
    "pred_mean = model_2.predict(prediction_data)\n",
    "# samples\n",
    "pred_samples = model_2.predict_posterior(prediction_data)"
   ]
  },
  {
   "cell_type": "markdown",
   "id": "cfb595b5-e237-4099-b16d-f00c4448307e",
   "metadata": {},
   "source": [
    "After using the `predict()`, we can plot our data and see graphically how satisfactory our `LinearModel` is."
   ]
  },
  {
   "cell_type": "code",
   "execution_count": 14,
   "id": "a5375a1c-ed19-4e06-9d9f-74369877cac2",
   "metadata": {},
   "outputs": [
    {
     "data": {
      "image/png": "[encoded data removed]",
      "text/plain": [
       "<Figure size 700x700 with 1 Axes>"
      ]
     },
     "metadata": {
      "image/png": {
       "height": 711,
       "width": 711
      }
     },
     "output_type": "display_data"
    }
   ],
   "source": [
    "fig, ax = plt.subplots(figsize=(7, 7))\n",
    "ax.plot(\n",
    "    x_pred,\n",
    "    pred_mean[\"y\"],\n",
    "    \"x\",\n",
    "    label=\"predict\",\n",
    ")\n",
    "ax.set(title=\"Posterior predictive regression lines\", xlabel=\"x\", ylabel=\"y\")\n",
    "plt.legend(loc=0);"
   ]
  },
  {
   "cell_type": "code",
   "execution_count": 15,
   "id": "07fb64ed-f707-4e19-9e27-b0c2700c04f6",
   "metadata": {
    "scrolled": true
   },
   "outputs": [
    {
     "name": "stdout",
     "output_type": "stream",
     "text": [
      "Last updated: Thu Feb 16 2023\n",
      "\n",
      "Python implementation: CPython\n",
      "Python version       : 3.10.8\n",
      "IPython version      : 8.7.0\n",
      "\n",
      "pymc_experimental: 0.0.2\n",
      "\n",
      "arviz     : 0.14.0\n",
      "matplotlib: 3.6.2\n",
      "pymc      : 5.0.1\n",
      "numpy     : 1.23.5\n",
      "pandas    : 1.5.2\n",
      "\n",
      "Watermark: 2.3.1\n",
      "\n"
     ]
    }
   ],
   "source": [
    "%load_ext watermark\n",
    "%watermark -n -u -v -iv -w -p pymc_experimental"
   ]
  },
  {
   "cell_type": "markdown",
   "id": "4917782b",
   "metadata": {},
   "source": [
    "## Authors\n",
    "* Authored by Shashank Kirtania and Thomas Wiecki in 2023."
   ]
  }
 ],
 "metadata": {
  "kernelspec": {
   "display_name": "pymc5",
   "language": "python",
   "name": "pymc5"
  },
  "language_info": {
   "codemirror_mode": {
    "name": "ipython",
    "version": 3
   },
   "file_extension": ".py",
   "mimetype": "text/x-python",
   "name": "python",
   "nbconvert_exporter": "python",
   "pygments_lexer": "ipython3",
   "version": "3.10.8"
  },
  "toc-autonumbering": false,
  "toc-showmarkdowntxt": true
 },
 "nbformat": 4,
 "nbformat_minor": 5
}
