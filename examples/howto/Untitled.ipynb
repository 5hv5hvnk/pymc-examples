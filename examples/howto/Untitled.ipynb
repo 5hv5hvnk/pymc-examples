{
 "cells": [
  {
   "cell_type": "code",
   "execution_count": 4,
   "id": "d499d9bc-9a37-4f91-a509-3c35c0f4e27a",
   "metadata": {},
   "outputs": [],
   "source": [
    "n = 20\n",
    "i = int(1)\n",
    "ans = []\n",
    "while i <= n:\n",
    "    if i%7==0 and i%11==0:\n",
    "        ans.append(\"BearLion\")\n",
    "    elif i%7==0:\n",
    "        ans.append(\"Bear\")\n",
    "    elif i%11==0:\n",
    "        ans.append(\"Lion\")\n",
    "    else:\n",
    "        ans.append(str(i))\n",
    "    i=i+1"
   ]
  },
  {
   "cell_type": "code",
   "execution_count": 5,
   "id": "2441142d-0fb0-4c55-81f2-3f1842443a00",
   "metadata": {},
   "outputs": [
    {
     "data": {
      "text/plain": [
       "[1,\n",
       " 2,\n",
       " 3,\n",
       " 4,\n",
       " 5,\n",
       " 6,\n",
       " 'Bear',\n",
       " 8,\n",
       " 9,\n",
       " 10,\n",
       " 'Lion',\n",
       " 12,\n",
       " 13,\n",
       " 'Bear',\n",
       " 15,\n",
       " 16,\n",
       " 17,\n",
       " 18,\n",
       " 19,\n",
       " 20]"
      ]
     },
     "execution_count": 5,
     "metadata": {},
     "output_type": "execute_result"
    }
   ],
   "source": [
    "ans"
   ]
  },
  {
   "cell_type": "code",
   "execution_count": null,
   "id": "09f3fd35-cb03-4975-8c82-f1bed2a1cf7b",
   "metadata": {},
   "outputs": [],
   "source": []
  }
 ],
 "metadata": {
  "kernelspec": {
   "display_name": "Python 3 (ipykernel)",
   "language": "python",
   "name": "python3"
  },
  "language_info": {
   "codemirror_mode": {
    "name": "ipython",
    "version": 3
   },
   "file_extension": ".py",
   "mimetype": "text/x-python",
   "name": "python",
   "nbconvert_exporter": "python",
   "pygments_lexer": "ipython3",
   "version": "3.8.8"
  }
 },
 "nbformat": 4,
 "nbformat_minor": 5
}
