{
 "cells": [
  {
   "cell_type": "markdown",
   "id": "8f00588f-6a28-4d93-b072-f464f78aae40",
   "metadata": {},
   "source": [
    "# Using ModelBuilder class for deploying PyMC models \n",
    ":::post: Sep 12, 2022:tags: model builder class, model class, linear model:category: Beginner:author: Shashank Kirtania, Thomas Wiecki:::"
   ]
  },
  {
   "cell_type": "markdown",
   "id": "1fdfb702-b893-4e63-8354-935f9742fdde",
   "metadata": {},
   "source": [
    "##### Motivation"
   ]
  },
  {
   "cell_type": "markdown",
   "id": "13a7e0ee-506c-4d5d-adb3-a52cc24cac50",
   "metadata": {},
   "source": [
    "Many users using PyMC face difficulty in deploying or saving their designed PyMC model because deploying/saving/loading a user-created model is a cumbersome task in PyMC. One of the reasons behind this is there is no direct way to save or load a model in PyMC like scikit-learn or TensorFlow. To combat this, We created a `ModelBuilder` class to improve workflow and use direct APIs to build, fit, save, load, predict and more.\n",
    "\n",
    "The new `ModelBuilder` class allows users to use direct methods to `fit`, `predict`, `save`, `load`. Users can create any model they want, inherit the `ModelBuilder` class, and use predefined methods. <br>\n",
    "Let's learn more about using an example <br>"
   ]
  },
  {
   "cell_type": "markdown",
   "id": "94832375-dc7e-4b4f-ad2e-87363fc363db",
   "metadata": {},
   "source": [
    "Let's see the difference in deployment of models with and without ModelBuilder\n",
    "\n",
    "initialising the model:\n",
    "```\n",
    "with pm.Model as model:\n",
    "    # Data\n",
    "    x = np.linspace(start=0, stop=1, num=100)\n",
    "    y = 5 * x + 3\n",
    "    y = y + np.random.normal(0, 1, len(x))\n",
    "    data = pd.DataFrame({\"input\": x, \"output\": y})\n",
    "    x = pm.MutableData(\"x\", data[\"input\"].values)\n",
    "    y_data = pm.MutableData(\"y_data\", data[\"output\"].values)\n",
    "    \n",
    "    # Fitting\n",
    "    idata = pm.sample(1000,1000)\n",
    "    idata.extend(pm.sample_prior_predictive())\n",
    "    \n",
    "    #posterior predict\n",
    "    post_pred = pm.sample_posterior_predictive(idata)\n",
    "```"
   ]
  },
  {
   "cell_type": "markdown",
   "id": "eda28484",
   "metadata": {},
   "source": [
    "To install pymc-experimental we can use pip and get the package to use the ModelBuilder"
   ]
  },
  {
   "cell_type": "markdown",
   "id": "fff3276a-ae47-4da1-be21-865659eb9ab0",
   "metadata": {},
   "source": [
    "Executing following command in your terminal shall do the job <br>\n",
    "`pip install pymc-experimental`"
   ]
  },
  {
   "cell_type": "markdown",
   "id": "10a23a0a-79b1-4d08-a601-e3d1bd576c00",
   "metadata": {},
   "source": [
    "First, we import libraries. We need to deploy a model"
   ]
  },
  {
   "cell_type": "code",
   "execution_count": 1,
   "id": "6ffa69c9-148a-402c-b48a-56c830f7dab9",
   "metadata": {},
   "outputs": [
    {
     "name": "stderr",
     "output_type": "stream",
     "text": [
      "/Users/mac/opt/anaconda3/lib/python3.8/site-packages/pkg_resources/__init__.py:123: PkgResourcesDeprecationWarning: 4.0.0-unsupported is an invalid version and will not be supported in a future release\n",
      "  warnings.warn(\n"
     ]
    }
   ],
   "source": [
    "import arviz as az\n",
    "import matplotlib.pyplot as plt\n",
    "import numpy as np\n",
    "import pandas as pd\n",
    "import pymc as pm"
   ]
  },
  {
   "cell_type": "markdown",
   "id": "36214695-5fb1-4450-a3ea-789f2e965746",
   "metadata": {},
   "source": [
    "Now we import the `ModelBuilder` present in the model_builder.py file"
   ]
  },
  {
   "cell_type": "code",
   "execution_count": 2,
   "id": "a1f5fa98-53d8-459a-827b-fa5179861918",
   "metadata": {},
   "outputs": [],
   "source": [
    "from pymc_experimental.model_builder import ModelBuilder"
   ]
  },
  {
   "cell_type": "code",
   "execution_count": 3,
   "id": "6bf4cb48-3c23-4ae9-b1b0-694056bd8b27",
   "metadata": {},
   "outputs": [],
   "source": [
    "%config InlineBackend.figure_format = 'retina'\n",
    "RANDOM_SEED = 8927\n",
    "np.random.seed(RANDOM_SEED)\n",
    "az.style.use(\"arviz-darkgrid\")"
   ]
  },
  {
   "cell_type": "markdown",
   "id": "ef0412fe-5aae-4bfa-8a1f-0e1e3762fc5f",
   "metadata": {},
   "source": [
    "To define our desired model we inherit the `ModelBuilder` class to our new model class, here a Linear regression model. We can also define it locally in some other python file and directly import it to our notebook"
   ]
  },
  {
   "cell_type": "code",
   "execution_count": 4,
   "id": "1c4b4575-630c-45a7-9eee-4790adf8924f",
   "metadata": {
    "tags": []
   },
   "outputs": [],
   "source": [
    "class LinearModel(ModelBuilder):\n",
    "    _model_type = \"LinearModel\"\n",
    "    version = \"0.1\"\n",
    "\n",
    "    def build_model(self, model_config, data=None):\n",
    "        \"\"\"\n",
    "        build_model creates the model and loads it to memory stack.\n",
    "\n",
    "        Parameters:\n",
    "        model_config: dictionary\n",
    "            it is a dictionary with all the parameters of pm.model that we need in our model example:  a_loc, a_scale, b_loc\n",
    "        data: Dict[str, Union[np.ndarray, pd.DataFrame, pd.Series]]\n",
    "            Default value is None. It is the data we need in our model to fit and other purposes, data can be passed in fit as well.\n",
    "        \"\"\"\n",
    "\n",
    "        if data is not None:\n",
    "            x = pm.MutableData(\"x\", data[\"input\"].values)\n",
    "            y_data = pm.MutableData(\"y_data\", data[\"output\"].values)\n",
    "\n",
    "        # prior parameters\n",
    "        a_loc = model_config[\"a_loc\"]\n",
    "        a_scale = model_config[\"a_scale\"]\n",
    "        b_loc = model_config[\"b_loc\"]\n",
    "        b_scale = model_config[\"b_scale\"]\n",
    "        obs_error = model_config[\"obs_error\"]\n",
    "\n",
    "        # priors\n",
    "        a = pm.Normal(\"a\", a_loc, sigma=a_scale)\n",
    "        b = pm.Normal(\"b\", b_loc, sigma=b_scale)\n",
    "        obs_error = pm.HalfNormal(\"σ_model_fmc\", obs_error)\n",
    "\n",
    "        # observed data\n",
    "        if data is not None:\n",
    "            y_model = pm.Normal(\"y_model\", a + b * x, obs_error, shape=x.shape, observed=y_data)\n",
    "\n",
    "    def _data_setter(self, data: pd.DataFrame):\n",
    "        \"\"\"\n",
    "        _data_setter works as a set_data for the model and updates the data whenever we need to.\n",
    "        Parameters:\n",
    "        data: Dict[str, Union[np.ndarray, pd.DataFrame, pd.Series]]\n",
    "            It is the data we need to update for the model.\n",
    "        \"\"\"\n",
    "\n",
    "        with self.model:\n",
    "            pm.set_data({\"x\": data[\"input\"].values})\n",
    "            if \"output\" in data.columns:\n",
    "                pm.set_data({\"y_data\": data[\"output\"].values})\n",
    "\n",
    "    @classmethod\n",
    "    def create_sample_input(cls):\n",
    "        \"\"\"\n",
    "        create_sample_input creates the sample input we need for our model, user can either use this or initialise their own parameters accordingly.\n",
    "        \"\"\"\n",
    "\n",
    "        x = np.linspace(start=0, stop=1, num=100)\n",
    "        y = 5 * x + 3\n",
    "        y = y + np.random.normal(0, 1, len(x))\n",
    "        data = pd.DataFrame({\"input\": x, \"output\": y})\n",
    "\n",
    "        model_config = {\n",
    "            \"a_loc\": 0,\n",
    "            \"a_scale\": 10,\n",
    "            \"b_loc\": 0,\n",
    "            \"b_scale\": 10,\n",
    "            \"obs_error\": 2,\n",
    "        }\n",
    "\n",
    "        sampler_config = {\n",
    "            \"draws\": 1_000,\n",
    "            \"tune\": 1_000,\n",
    "            \"chains\": 3,\n",
    "            \"target_accept\": 0.95,\n",
    "        }\n",
    "\n",
    "        return data, model_config, sampler_config"
   ]
  },
  {
   "cell_type": "markdown",
   "id": "aa682cee-58b0-4c51-b5fd-f99d6afaea69",
   "metadata": {},
   "source": [
    "Now we can create an object of LinearModel type, which we can edit according to our use or use the default model as defined by the user.\n",
    "Most importantly, if you make _ a really cool model_ and want to deploy the same, it will be easier for you to make a class and share the model so people can use it via the object instead of redefining the model every time they need it. <br>\n",
    "\n",
    "Making the object is the same as making an object of a python class. We first define parameters we need to make the object like -> data, model configuration and sampler configuration. \n",
    "We can do that using the `create_sample_input()` method described above."
   ]
  },
  {
   "cell_type": "code",
   "execution_count": 5,
   "id": "8658306c-f1eb-45a7-9c71-3fcee06183bc",
   "metadata": {},
   "outputs": [],
   "source": [
    "data, model_config, sampler_config = LinearModel.create_sample_input()\n",
    "model = LinearModel(model_config, sampler_config, data)"
   ]
  },
  {
   "cell_type": "markdown",
   "id": "294cf57b-b51f-4c77-8e0b-5adaf0a63f2b",
   "metadata": {},
   "source": [
    "After making the object of class `LinearModel` we can fit the model using the `.fit()` method."
   ]
  },
  {
   "cell_type": "markdown",
   "id": "b54461fe-60a1-4cfa-8c4c-d5d52050902e",
   "metadata": {},
   "source": [
    "`fit` method takes one argument `data` on which we need to fit the model and assigns `idata.attrs` with `id`, `model_type`, `version`, `sample_conifg`, `model_config`. \n",
    "* `id` : This is a unique id given to a model based on model_config, sample_conifg, version, and model_type. Users can use it to check if the model matches to another model they have defined.\n",
    "* `model_type` : Model type tells us what kind of model it is. This in this case it outputs **Linear Model** \n",
    "* `version` : In case users want to improvise on models, they can keep track of model by its version. As the version changes the unique hash in the `id` also changes.\n",
    "* `sample_conifg` : It stores values of the sampler configuration set by user for this particular model.\n",
    "* `model_config` : It stores values of the model configuration set by user for this particular model."
   ]
  },
  {
   "cell_type": "code",
   "execution_count": 6,
   "id": "a3708a8f-40f6-4a04-bcbf-284397f25450",
   "metadata": {},
   "outputs": [
    {
     "name": "stderr",
     "output_type": "stream",
     "text": [
      "Auto-assigning NUTS sampler...\n",
      "Initializing NUTS using jitter+adapt_diag...\n",
      "Multiprocess sampling (3 chains in 4 jobs)\n",
      "NUTS: [a, b, σ_model_fmc]\n"
     ]
    },
    {
     "data": {
      "text/html": [
       "\n",
       "    <div>\n",
       "        <style>\n",
       "            /* Turns off some styling */\n",
       "            progress {\n",
       "                /* gets rid of default border in Firefox and Opera. */\n",
       "                border: none;\n",
       "                /* Needs to be in here for Safari polyfill so background images work as expected. */\n",
       "                background-size: auto;\n",
       "            }\n",
       "            .progress-bar-interrupted, .progress-bar-interrupted::-webkit-progress-bar {\n",
       "                background: #F44336;\n",
       "            }\n",
       "        </style>\n",
       "      <progress value='6000' class='' max='6000' style='width:300px; height:20px; vertical-align: middle;'></progress>\n",
       "      100.00% [6000/6000 00:03<00:00 Sampling 3 chains, 0 divergences]\n",
       "    </div>\n",
       "    "
      ],
      "text/plain": [
       "<IPython.core.display.HTML object>"
      ]
     },
     "metadata": {},
     "output_type": "display_data"
    },
    {
     "name": "stderr",
     "output_type": "stream",
     "text": [
      "/Users/mac/opt/anaconda3/lib/python3.8/site-packages/pkg_resources/__init__.py:123: PkgResourcesDeprecationWarning: 4.0.0-unsupported is an invalid version and will not be supported in a future release\n",
      "  warnings.warn(\n",
      "/Users/mac/opt/anaconda3/lib/python3.8/site-packages/pkg_resources/__init__.py:123: PkgResourcesDeprecationWarning: 4.0.0-unsupported is an invalid version and will not be supported in a future release\n",
      "  warnings.warn(\n",
      "/Users/mac/opt/anaconda3/lib/python3.8/site-packages/pkg_resources/__init__.py:123: PkgResourcesDeprecationWarning: 4.0.0-unsupported is an invalid version and will not be supported in a future release\n",
      "  warnings.warn(\n",
      "Sampling 3 chains for 1_000 tune and 1_000 draw iterations (3_000 + 3_000 draws total) took 20 seconds.\n",
      "Sampling: [a, b, y_model, σ_model_fmc]\n",
      "Sampling: [y_model]\n"
     ]
    },
    {
     "data": {
      "text/html": [
       "\n",
       "    <div>\n",
       "        <style>\n",
       "            /* Turns off some styling */\n",
       "            progress {\n",
       "                /* gets rid of default border in Firefox and Opera. */\n",
       "                border: none;\n",
       "                /* Needs to be in here for Safari polyfill so background images work as expected. */\n",
       "                background-size: auto;\n",
       "            }\n",
       "            .progress-bar-interrupted, .progress-bar-interrupted::-webkit-progress-bar {\n",
       "                background: #F44336;\n",
       "            }\n",
       "        </style>\n",
       "      <progress value='3000' class='' max='3000' style='width:300px; height:20px; vertical-align: middle;'></progress>\n",
       "      100.00% [3000/3000 00:00<00:00]\n",
       "    </div>\n",
       "    "
      ],
      "text/plain": [
       "<IPython.core.display.HTML object>"
      ]
     },
     "metadata": {},
     "output_type": "display_data"
    }
   ],
   "source": [
    "idata = model.fit()"
   ]
  },
  {
   "cell_type": "markdown",
   "id": "1649556a-13b6-409f-ac09-5c4b7e0277b7",
   "metadata": {},
   "source": [
    "After fitting the model, we can probably save it to share the model as a file so one can use it again.\n",
    "To `save` or `load`, we can quickly call methods for respective tasks with the following syntax."
   ]
  },
  {
   "cell_type": "code",
   "execution_count": 7,
   "id": "a965d738-60c5-4b4b-b872-f2613621851b",
   "metadata": {
    "tags": []
   },
   "outputs": [],
   "source": [
    "fname = \"/Users/mac/Desktop/mymodel.nc\"\n",
    "model.save(fname)"
   ]
  },
  {
   "cell_type": "markdown",
   "id": "490e8802-0395-42c7-a01a-18d9af272320",
   "metadata": {},
   "source": [
    "This saves a file at the given path, and the name <br>\n",
    "A `.nc` file that stores the inference data of the model."
   ]
  },
  {
   "cell_type": "markdown",
   "id": "3e188eb0-c42e-4cd5-b70c-568d9cde71f0",
   "metadata": {},
   "source": [
    "Now we create a new model named `model_2` which is same as `model` but instead of fitting it we load it's idata."
   ]
  },
  {
   "cell_type": "code",
   "execution_count": 8,
   "id": "fe2bccf2-1707-4b21-803b-50716e9298c3",
   "metadata": {},
   "outputs": [],
   "source": [
    "data, model_config, sampler_config = LinearModel.create_sample_input()\n",
    "model_2 = LinearModel(model_config, sampler_config, data)\n",
    "# loading\n",
    "model_2.load(fname)"
   ]
  },
  {
   "cell_type": "markdown",
   "id": "1d7254f1-7a59-4623-a128-8a1dd48d0407",
   "metadata": {},
   "source": [
    "The `predict()` method allows users to do a posterior predcit with the fitted model on new data.<br>\n",
    "Our first task is to create data on which we need to predict."
   ]
  },
  {
   "cell_type": "code",
   "execution_count": 9,
   "id": "3ecc8694-db5e-4d45-b8e0-78608b7eaa83",
   "metadata": {},
   "outputs": [],
   "source": [
    "x_pred = np.random.uniform(low=0, high=1, size=100)\n",
    "prediction_data = pd.DataFrame({\"input\": x_pred})"
   ]
  },
  {
   "cell_type": "markdown",
   "id": "1b155d2d-0211-4d85-8b60-a728a62e3743",
   "metadata": {},
   "source": [
    "Now we predict with `model_2` and save the mean and samples in `pred_mean` and `pred_samples` respectively"
   ]
  },
  {
   "cell_type": "code",
   "execution_count": 10,
   "id": "6926eba3-52ed-4c6c-b58f-f2e0bba7b45a",
   "metadata": {},
   "outputs": [
    {
     "name": "stderr",
     "output_type": "stream",
     "text": [
      "Sampling: [y_model]\n"
     ]
    },
    {
     "data": {
      "text/html": [
       "\n",
       "    <div>\n",
       "        <style>\n",
       "            /* Turns off some styling */\n",
       "            progress {\n",
       "                /* gets rid of default border in Firefox and Opera. */\n",
       "                border: none;\n",
       "                /* Needs to be in here for Safari polyfill so background images work as expected. */\n",
       "                background-size: auto;\n",
       "            }\n",
       "            .progress-bar-interrupted, .progress-bar-interrupted::-webkit-progress-bar {\n",
       "                background: #F44336;\n",
       "            }\n",
       "        </style>\n",
       "      <progress value='3000' class='' max='3000' style='width:300px; height:20px; vertical-align: middle;'></progress>\n",
       "      100.00% [3000/3000 00:00<00:00]\n",
       "    </div>\n",
       "    "
      ],
      "text/plain": [
       "<IPython.core.display.HTML object>"
      ]
     },
     "metadata": {},
     "output_type": "display_data"
    },
    {
     "name": "stderr",
     "output_type": "stream",
     "text": [
      "Sampling: [y_model]\n"
     ]
    },
    {
     "data": {
      "text/html": [
       "\n",
       "    <div>\n",
       "        <style>\n",
       "            /* Turns off some styling */\n",
       "            progress {\n",
       "                /* gets rid of default border in Firefox and Opera. */\n",
       "                border: none;\n",
       "                /* Needs to be in here for Safari polyfill so background images work as expected. */\n",
       "                background-size: auto;\n",
       "            }\n",
       "            .progress-bar-interrupted, .progress-bar-interrupted::-webkit-progress-bar {\n",
       "                background: #F44336;\n",
       "            }\n",
       "        </style>\n",
       "      <progress value='3000' class='' max='3000' style='width:300px; height:20px; vertical-align: middle;'></progress>\n",
       "      100.00% [3000/3000 00:00<00:00]\n",
       "    </div>\n",
       "    "
      ],
      "text/plain": [
       "<IPython.core.display.HTML object>"
      ]
     },
     "metadata": {},
     "output_type": "display_data"
    }
   ],
   "source": [
    "pred_mean = model_2.predict(prediction_data)\n",
    "# samples\n",
    "pred_samples = model_2.predict_posterior(prediction_data)"
   ]
  },
  {
   "cell_type": "markdown",
   "id": "cfb595b5-e237-4099-b16d-f00c4448307e",
   "metadata": {},
   "source": [
    "After using the `predict()`, we can plot our data and see graphically how satisfactory our `LinearModel` is"
   ]
  },
  {
   "cell_type": "markdown",
   "id": "469de75a-9074-4381-9e28-5e6be88b0e20",
   "metadata": {},
   "source": [
    "For which we plot our results"
   ]
  },
  {
   "cell_type": "code",
   "execution_count": 11,
   "id": "a5375a1c-ed19-4e06-9d9f-74369877cac2",
   "metadata": {},
   "outputs": [
    {
     "name": "stderr",
     "output_type": "stream",
     "text": [
      "/var/folders/dm/1hcwyfgn3cj_bbdzd7mv28dw0000gn/T/ipykernel_95258/745410677.py:3: UserWarning: color is redundantly defined by the 'color' keyword argument and the fmt string \"bo\" (-> color='b'). The keyword argument will take precedence.\n",
      "  plt.plot(prediction_data.input, pred_mean[\"y_model\"], \"bo\", label=\"predict\", color=\"r\")\n"
     ]
    },
    {
     "data": {
      "image/png": "[encoded data removed]",
      "text/plain": [
       "<Figure size 504x504 with 1 Axes>"
      ]
     },
     "metadata": {
      "image/png": {
       "height": 512,
       "width": 512
      },
      "needs_background": "light"
     },
     "output_type": "display_data"
    }
   ],
   "source": [
    "plt.figure(figsize=(7, 7))\n",
    "plt.plot(data[\"input\"], data[\"output\"], \"x\", label=\"data\")\n",
    "plt.plot(prediction_data.input, pred_mean[\"y_model\"], \"bo\", label=\"predict\", color=\"r\")\n",
    "plt.title(\"Posterior predictive regression lines\")\n",
    "plt.legend(loc=0)\n",
    "plt.xlabel(\"x\")\n",
    "plt.ylabel(\"y\");"
   ]
  },
  {
   "cell_type": "code",
   "execution_count": 12,
   "id": "07fb64ed-f707-4e19-9e27-b0c2700c04f6",
   "metadata": {},
   "outputs": [
    {
     "name": "stdout",
     "output_type": "stream",
     "text": [
      "Last updated: Sun Jan 15 2023\n",
      "\n",
      "Python implementation: CPython\n",
      "Python version       : 3.8.8\n",
      "IPython version      : 7.26.0\n",
      "\n",
      "arviz     : 0.14.0\n",
      "pymc      : 5.0.0\n",
      "numpy     : 1.21.6\n",
      "matplotlib: 3.6.2\n",
      "pandas    : 1.5.2\n",
      "\n",
      "Watermark: 2.3.1\n",
      "\n"
     ]
    }
   ],
   "source": [
    "%load_ext watermark\n",
    "%watermark -n -u -v -iv -w"
   ]
  }
 ],
 "metadata": {
  "kernelspec": {
   "display_name": "Python 3 (ipykernel)",
   "language": "python",
   "name": "python3"
  },
  "language_info": {
   "codemirror_mode": {
    "name": "ipython",
    "version": 3
   },
   "file_extension": ".py",
   "mimetype": "text/x-python",
   "name": "python",
   "nbconvert_exporter": "python",
   "pygments_lexer": "ipython3",
   "version": "3.8.8"
  },
  "toc-autonumbering": false,
  "toc-showmarkdowntxt": true
 },
 "nbformat": 4,
 "nbformat_minor": 5
}
